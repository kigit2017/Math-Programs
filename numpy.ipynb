{
  "nbformat": 4,
  "nbformat_minor": 0,
  "metadata": {
    "colab": {
      "provenance": [],
      "authorship_tag": "ABX9TyNHegcgnQRdhkfVgO8bGykJ",
      "include_colab_link": true
    },
    "kernelspec": {
      "name": "python3",
      "display_name": "Python 3"
    },
    "language_info": {
      "name": "python"
    }
  },
  "cells": [
    {
      "cell_type": "markdown",
      "metadata": {
        "id": "view-in-github",
        "colab_type": "text"
      },
      "source": [
        "<a href=\"https://colab.research.google.com/github/kigit2017/Math-Programs/blob/main/numpy.ipynb\" target=\"_parent\"><img src=\"https://colab.research.google.com/assets/colab-badge.svg\" alt=\"Open In Colab\"/></a>"
      ]
    },
    {
      "cell_type": "code",
      "execution_count": null,
      "metadata": {
        "colab": {
          "base_uri": "https://localhost:8080/"
        },
        "id": "00DBuiKGszbf",
        "outputId": "a6134bab-f39c-49ae-8fd6-e66241e1c16e"
      },
      "outputs": [
        {
          "output_type": "stream",
          "name": "stdout",
          "text": [
            "[10, 20, 30, 40, 50]\n"
          ]
        }
      ],
      "source": [
        "lst = [10,20,30,40,50]\n",
        "\n",
        "print(lst)"
      ]
    },
    {
      "cell_type": "code",
      "source": [
        "# if i want to increase the value of each element present in list.\n",
        "lst_1 = lst+10\n",
        "print(lst_1)"
      ],
      "metadata": {
        "colab": {
          "base_uri": "https://localhost:8080/",
          "height": 200
        },
        "id": "jJsGkpgzs9Qp",
        "outputId": "1e201c85-bddf-4245-875a-5748b60a462f"
      },
      "execution_count": null,
      "outputs": [
        {
          "output_type": "error",
          "ename": "TypeError",
          "evalue": "ignored",
          "traceback": [
            "\u001b[0;31m---------------------------------------------------------------------------\u001b[0m",
            "\u001b[0;31mTypeError\u001b[0m                                 Traceback (most recent call last)",
            "\u001b[0;32m<ipython-input-2-3e6c360a2f0d>\u001b[0m in \u001b[0;36m<cell line: 2>\u001b[0;34m()\u001b[0m\n\u001b[1;32m      1\u001b[0m \u001b[0;31m# if i want to increase the value of each element present in list.\u001b[0m\u001b[0;34m\u001b[0m\u001b[0;34m\u001b[0m\u001b[0m\n\u001b[0;32m----> 2\u001b[0;31m \u001b[0mlst_1\u001b[0m \u001b[0;34m=\u001b[0m \u001b[0mlst\u001b[0m\u001b[0;34m+\u001b[0m\u001b[0;36m10\u001b[0m\u001b[0;34m\u001b[0m\u001b[0;34m\u001b[0m\u001b[0m\n\u001b[0m\u001b[1;32m      3\u001b[0m \u001b[0mprint\u001b[0m\u001b[0;34m(\u001b[0m\u001b[0mlst_1\u001b[0m\u001b[0;34m)\u001b[0m\u001b[0;34m\u001b[0m\u001b[0;34m\u001b[0m\u001b[0m\n",
            "\u001b[0;31mTypeError\u001b[0m: can only concatenate list (not \"int\") to list"
          ]
        }
      ]
    },
    {
      "cell_type": "code",
      "source": [
        "# but if you will convert this list into array\n",
        "import numpy as np\n",
        "arr = np.array(lst)\n",
        "arr_new = arr+10\n",
        "print(arr_new)"
      ],
      "metadata": {
        "colab": {
          "base_uri": "https://localhost:8080/"
        },
        "id": "nl6ZLSJJtcFQ",
        "outputId": "9f19b54c-eded-4269-9a22-b6007277dc3d"
      },
      "execution_count": null,
      "outputs": [
        {
          "output_type": "stream",
          "name": "stdout",
          "text": [
            "[20 30 40 50 60]\n"
          ]
        }
      ]
    },
    {
      "cell_type": "code",
      "source": [
        "#Exercise\n",
        "import numpy as np\n",
        "marks=[20,30,40]\n",
        "id=[0,2,4]\n",
        "print(marks)\n",
        "print(id)\n",
        "\n",
        "arr1=np.array([25,56,12,85,34,75])\n",
        "arr2=np.array([42,3,86,32,856])\n",
        "Narr= np.random.randn(arr1.size )\n",
        "arr1.size\n",
        "arr1.astype(complex)\n",
        "print(arr1.astype(complex))\n",
        "a = np.array([[1,2,3],[4,5,6],[7,8,9]])\n",
        "print(a)\n",
        "print(a[:2,:2])\n",
        "print(\"All elements in 3rd row\", a[2:])\n",
        "a=np.array([[1,2],[3,4],[5,6]])\n",
        "print(a[[0,0],[1,1]])\n",
        "\n"
      ],
      "metadata": {
        "colab": {
          "base_uri": "https://localhost:8080/"
        },
        "id": "z8Be0usj5zFw",
        "outputId": "8ba55bc6-38a1-4236-e320-880a91a04675"
      },
      "execution_count": null,
      "outputs": [
        {
          "output_type": "stream",
          "name": "stdout",
          "text": [
            "[20, 30, 40]\n",
            "[0, 2, 4]\n",
            "[25.+0.j 56.+0.j 12.+0.j 85.+0.j 34.+0.j 75.+0.j]\n",
            "[[1 2 3]\n",
            " [4 5 6]\n",
            " [7 8 9]]\n",
            "[[1 2]\n",
            " [4 5]]\n",
            "All elements in 3rd row [[7 8 9]]\n",
            "[2 2]\n"
          ]
        }
      ]
    },
    {
      "cell_type": "code",
      "source": [
        "a=np.array([[1,2],[3,4],[5,6]])\n",
        "print(a[[1,0]])\n",
        "print(a[[1,0],[1,1]])\n",
        "print(a[[0,1,2],[0,1,0]])\n",
        "\n",
        "print(np.array([a[0,0],a[1,1],a[2,0]]))\n",
        "#12\n",
        "#34\n",
        "#56\n",
        "#1 4 5\n",
        "print(a[[0,0],[1,1]])\n",
        "#12\n",
        "#12\n",
        "#22\n",
        "\n",
        "a = np.array([[4,7,1],[2,5,7],[7,1,1]])\n",
        "mask = a >3\n",
        "print(a[mask])\n",
        "#[0,1,0],[0.1.1],[1,0,0]\n",
        "a=[3,4,5,3+5j,0]\n",
        "print(np.isreal(a))\n",
        "print(np.iscomplex(a))"
      ],
      "metadata": {
        "colab": {
          "base_uri": "https://localhost:8080/"
        },
        "id": "9c1CBkzGngar",
        "outputId": "37ce82b5-8483-4e5c-c808-c2c79ca4dd5d"
      },
      "execution_count": null,
      "outputs": [
        {
          "output_type": "stream",
          "name": "stdout",
          "text": [
            "[[3 4]\n",
            " [1 2]]\n",
            "[4 2]\n",
            "[1 4 5]\n",
            "[1 4 5]\n",
            "[2 2]\n",
            "[4 7 5 7 7]\n",
            "[ True  True  True False  True]\n",
            "[False False False  True False]\n"
          ]
        }
      ]
    },
    {
      "cell_type": "code",
      "source": [
        "coefficients =  np.array([1,-4,4])\n",
        "print(coefficients)\n",
        "roots = np.roots(coefficients)\n",
        "print(roots)\n",
        "\n"
      ],
      "metadata": {
        "colab": {
          "base_uri": "https://localhost:8080/"
        },
        "id": "RP4d8YpPu3HM",
        "outputId": "6a23d90a-71a0-40e5-de9b-e49e0956627b"
      },
      "execution_count": null,
      "outputs": [
        {
          "output_type": "stream",
          "name": "stdout",
          "text": [
            "[ 1 -4  4]\n",
            "[2. 2.]\n"
          ]
        }
      ]
    },
    {
      "cell_type": "code",
      "source": [],
      "metadata": {
        "id": "eDxC7vthl4IT"
      },
      "execution_count": null,
      "outputs": []
    }
  ]
}