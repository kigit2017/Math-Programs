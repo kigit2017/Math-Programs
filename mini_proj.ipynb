{
  "nbformat": 4,
  "nbformat_minor": 0,
  "metadata": {
    "colab": {
      "provenance": [],
      "mount_file_id": "12_7W-2gbFrOv9Tsx5WB__XpuxPPDI29K",
      "authorship_tag": "ABX9TyO/9tXsnLcg4+WQXb8w6tST",
      "include_colab_link": true
    },
    "kernelspec": {
      "name": "python3",
      "display_name": "Python 3"
    },
    "language_info": {
      "name": "python"
    }
  },
  "cells": [
    {
      "cell_type": "markdown",
      "metadata": {
        "id": "view-in-github",
        "colab_type": "text"
      },
      "source": [
        "<a href=\"https://colab.research.google.com/github/kigit2017/Math-Programs/blob/main/mini_proj.ipynb\" target=\"_parent\"><img src=\"https://colab.research.google.com/assets/colab-badge.svg\" alt=\"Open In Colab\"/></a>"
      ]
    },
    {
      "cell_type": "code",
      "execution_count": null,
      "metadata": {
        "colab": {
          "base_uri": "https://localhost:8080/"
        },
        "id": "SMdBqbdRNJm0",
        "outputId": "cad56c37-5bfe-48ef-9b87-f6c2ac21c821"
      },
      "outputs": [
        {
          "output_type": "stream",
          "name": "stdout",
          "text": [
            "[10, 27, 110, 6, 6]\n",
            "race with minimum no, of citizens 3\n",
            "1917.0\n",
            "39876.0 61 653.7\n",
            "Average pay of seniors Education level >10  566.5 \n",
            "\n",
            "Average pay of seniors education level <10 2.5\n"
          ]
        }
      ],
      "source": [
        "import numpy as np\n",
        "data_file = '/content/drive/MyDrive/Dataset/makeSenseOfCensus.csv'\n",
        "data = np.genfromtxt(data_file, delimiter = \",\", skip_header = 1)\n",
        "#print(data)\n",
        "new_record=[[50, 9, 4, 1, 0, 0, 40, 0]]\n",
        "np.concatenate((data,new_record))\n",
        "#print(data)\n",
        "age = data[:,0]\n",
        "#print(age)\n",
        "max_age = np.max(age)\n",
        "min_age = np.min(age)\n",
        "age_mean = np.mean(age)\n",
        "age_std = np.std(age)\n",
        "race=data[:,2]\n",
        "race_0=np.extract(data[:,2] == 0.0,race)\n",
        "race_1=np.extract(data[:,2] == 1.0,race)\n",
        "race_2=np.extract(data[:,2] == 2.0,race)\n",
        "race_3=np.extract(data[:,2] == 3.0,race)\n",
        "race_4=np.extract(data[:,2] == 4.0,race)\n",
        "len_0 = race_0.size\n",
        "len_1 = race_1.size\n",
        "len_2 = race_2.size\n",
        "len_3 = race_3.size\n",
        "len_4 = race_3.size\n",
        "rac_arr=[len_0,len_1,len_2,len_3,len_4]\n",
        "print(rac_arr)\n",
        "print(\"race with minimum no, of citizens\",rac_arr.index(min(rac_arr),0,5))\n",
        "\n",
        "working_hours = data[:,6]\n",
        "#print(working_hours)\n",
        "senior_citizens = np.extract(data[:,0] > 60,data[:,6])\n",
        "print(np.sum(senior_citizens))\n",
        "working_hours_sum = np.sum(working_hours)\n",
        "senior_citizens_len = np.count_nonzero(senior_citizens)\n",
        "\n",
        "avg_working_hours = working_hours_sum/senior_citizens_len\n",
        "print(working_hours_sum,senior_citizens_len,np.round(avg_working_hours,2))\n",
        "\n",
        "high = np.extract(data[:1]>10,data[:7])\n",
        "low =  np.extract(data[:1]<=10,data[:7])\n",
        "\n",
        "print(\"Average pay of seniors Education level >10 \",sum(high)/np.count_nonzero(high),\"\\n\")\n",
        "print(\"Average pay of seniors education level <10\",sum(low)/np.count_nonzero(low))\n"
      ]
    },
    {
      "cell_type": "markdown",
      "source": [],
      "metadata": {
        "id": "3YqdE3FwgtDb"
      }
    },
    {
      "cell_type": "code",
      "source": [
        "import numpy as np\n",
        "data_file = '/content/drive/MyDrive/Dataset/KAG_Conversion_Data.csv'\n",
        "data = np.genfromtxt(data_file, delimiter = \",\", skip_header = 1)\n",
        "\n",
        "#print(data[:,1])\n",
        "uniq_camp = np.unique(data[:,1])\n",
        "#print(uniq_camp)\n",
        "for arr in enumerate(uniq_camp):\n",
        "  #print(arr[1])\n",
        "  count_arr =  np.extract(data[:,1] == arr[1],data[:,1])\n",
        "  #print(count_arr)\n",
        "  print(np.count_nonzero(count_arr),arr[1])\n",
        "\n",
        "\n",
        "data1 = np.genfromtxt(data_file, delimiter = \",\", skip_header = 1)\n",
        "#age = data1[:,3]\n",
        "age_groups = np.unique(age)\n",
        "for i in age_groups:\n",
        "  print(i, end = \", \")\n"
      ],
      "metadata": {
        "colab": {
          "base_uri": "https://localhost:8080/"
        },
        "id": "NbCYD03tPUPO",
        "outputId": "6ab49b40-85db-4362-a5f7-716b9c02e6bd"
      },
      "execution_count": null,
      "outputs": [
        {
          "output_type": "stream",
          "name": "stdout",
          "text": [
            "54 916.0\n",
            "464 936.0\n",
            "625 1178.0\n",
            "nan, "
          ]
        }
      ]
    }
  ]
}