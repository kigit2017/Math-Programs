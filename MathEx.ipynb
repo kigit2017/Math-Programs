{
  "nbformat": 4,
  "nbformat_minor": 0,
  "metadata": {
    "colab": {
      "provenance": [],
      "authorship_tag": "ABX9TyPOagHbOVjJdfGZ638hRzLN",
      "include_colab_link": true
    },
    "kernelspec": {
      "name": "python3",
      "display_name": "Python 3"
    },
    "language_info": {
      "name": "python"
    }
  },
  "cells": [
    {
      "cell_type": "markdown",
      "metadata": {
        "id": "view-in-github",
        "colab_type": "text"
      },
      "source": [
        "<a href=\"https://colab.research.google.com/github/kigit2017/Math-Programs/blob/main/MathEx.ipynb\" target=\"_parent\"><img src=\"https://colab.research.google.com/assets/colab-badge.svg\" alt=\"Open In Colab\"/></a>"
      ]
    },
    {
      "cell_type": "code",
      "source": [
        "#fib series\n",
        "from numpy.lib import math\n",
        "curr=1\n",
        "prev=0\n",
        "print(0,prev+curr, end=',')\n",
        "for i in range(1,10):\n",
        "  a=prev+curr\n",
        "  print(a, end=',')\n",
        "  prev=curr\n",
        "  curr=a\n",
        "\n",
        "\n",
        "\n"
      ],
      "metadata": {
        "colab": {
          "base_uri": "https://localhost:8080/"
        },
        "id": "5uYXMzaeYZWu",
        "outputId": "b2dfe5b5-2eb8-4349-8a58-14438901cce9"
      },
      "execution_count": null,
      "outputs": [
        {
          "output_type": "stream",
          "name": "stdout",
          "text": [
            "0 1,1,2,3,5,8,13,21,34,55,"
          ]
        }
      ]
    },
    {
      "cell_type": "code",
      "source": [
        "#prime numbers list\n",
        "import numpy as np\n",
        "#a = 4\n",
        "f=[]\n",
        "i=20\n",
        "  # find factors, multiply all the numbers in the list with each no,store in list l and add lists to make a final list,\n",
        "for j in range(2,i+1):\n",
        "    #print(\"j\",j)\n",
        "   # if(i==j):\n",
        "     #continue\n",
        "    a = np.arange(j,i+1)\n",
        "    a = (a* j)\n",
        "    l = a.tolist()\n",
        "    f.extend(l)\n",
        "    # remove multi factor not in list to get prime numbers\n",
        "for k in range(1,i):\n",
        "  #print(k)\n",
        "  if(k not in f):\n",
        "     print(\"prime\",k)\n",
        "\n",
        "# if number is not divisiv=ble by any number then that is prime number\n",
        "\n",
        "\n",
        "\n"
      ],
      "metadata": {
        "colab": {
          "base_uri": "https://localhost:8080/"
        },
        "id": "hnpvYSv5Yiw4",
        "outputId": "3e4ddee5-f0eb-4258-b472-99aaac88c2c3"
      },
      "execution_count": null,
      "outputs": [
        {
          "output_type": "stream",
          "name": "stdout",
          "text": [
            "prime 1\n",
            "prime 2\n",
            "prime 3\n",
            "prime 5\n",
            "prime 7\n",
            "prime 11\n",
            "prime 13\n",
            "prime 17\n",
            "prime 19\n"
          ]
        }
      ]
    },
    {
      "cell_type": "code",
      "execution_count": null,
      "metadata": {
        "colab": {
          "base_uri": "https://localhost:8080/"
        },
        "id": "BrijzqobR0SD",
        "outputId": "c7b1bc39-d15a-4833-87bc-1f4534dde842"
      },
      "outputs": [
        {
          "output_type": "stream",
          "name": "stdout",
          "text": [
            "olleH\n",
            "olleH\n"
          ]
        }
      ],
      "source": [
        "#reverse string\n",
        "n = \"Hello\"\n",
        "#input(\"Enter Reverse string:\")\n",
        "g=len(n)\n",
        "s=g-1\n",
        "out=\"\"\n",
        "i=0\n",
        "for i in range(1,g+1):\n",
        " out+=str(n[s])\n",
        " s-=1\n",
        "print(out)\n",
        "\n",
        "#\n",
        "print(n[::-1])\n",
        ""
      ]
    },
    {
      "cell_type": "code",
      "source": [
        "# factorial\n",
        "a=int(input(\"Enter a number to find factorial \"))\n",
        "f=1\n",
        "for i in range(1,a+1):\n",
        "  f=f*i\n",
        "print(\"Factorial of a:\",f)"
      ],
      "metadata": {
        "colab": {
          "base_uri": "https://localhost:8080/"
        },
        "id": "3qsuPoSaZmNC",
        "outputId": "e6d86af5-dc79-4531-dad9-8aaf59c0ad76"
      },
      "execution_count": null,
      "outputs": [
        {
          "output_type": "stream",
          "name": "stdout",
          "text": [
            "Enter a number to find factorial 5\n",
            "Factorial of a: 120\n"
          ]
        }
      ]
    },
    {
      "cell_type": "code",
      "source": [
        "#class for math\n",
        "import numpy as np\n",
        "import math\n",
        "class math_calc:\n",
        "  def __init__(self,name):\n",
        "    self.name=name\n",
        "\n",
        "  def addition(self,n1,n2):\n",
        "    print(n1+n2)\n",
        "\n",
        "  def subtraction(self,n1,n2):\n",
        "      print(n1-n2)\n",
        "  def division(self,n1,n2):\n",
        "    print(n1/n2)\n",
        "  def multiplication(self,n1,n2):\n",
        "    print(n1*n2)\n",
        "\n",
        "m = math_calc(\"Mycalc\")\n",
        "m.addition(20,100)\n",
        "m.subtraction(1000,800)\n",
        "m.division(10000,500)\n",
        "m.multiplication(50,40)\n",
        "\n",
        "\n",
        "\n",
        "\n",
        "\n",
        "\n",
        "\n"
      ],
      "metadata": {
        "colab": {
          "base_uri": "https://localhost:8080/"
        },
        "id": "zra0yeEsapmZ",
        "outputId": "824441de-c1b1-4b24-821c-49353b94a62f"
      },
      "execution_count": null,
      "outputs": [
        {
          "output_type": "stream",
          "name": "stdout",
          "text": [
            "120\n",
            "200\n",
            "20.0\n",
            "2000\n"
          ]
        }
      ]
    }
  ]
}