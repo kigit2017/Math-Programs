{
  "nbformat": 4,
  "nbformat_minor": 0,
  "metadata": {
    "colab": {
      "provenance": [],
      "mount_file_id": "1m91DsI4GEojksMuF4NMyTlr0XZvXRTus",
      "authorship_tag": "ABX9TyM56OhS+o6rNUmEzstoCk7S",
      "include_colab_link": true
    },
    "kernelspec": {
      "name": "python3",
      "display_name": "Python 3"
    },
    "language_info": {
      "name": "python"
    }
  },
  "cells": [
    {
      "cell_type": "markdown",
      "metadata": {
        "id": "view-in-github",
        "colab_type": "text"
      },
      "source": [
        "<a href=\"https://colab.research.google.com/github/kigit2017/Math-Programs/blob/main/FileHandling.ipynb\" target=\"_parent\"><img src=\"https://colab.research.google.com/assets/colab-badge.svg\" alt=\"Open In Colab\"/></a>"
      ]
    },
    {
      "cell_type": "code",
      "execution_count": null,
      "metadata": {
        "colab": {
          "base_uri": "https://localhost:8080/"
        },
        "id": "024Dh4VNs9r3",
        "outputId": "1e6ab10c-9504-4d3a-d9b8-984920f4caf9"
      },
      "outputs": [
        {
          "output_type": "stream",
          "name": "stdout",
          "text": [
            "/content/drive/MyDrive/Machine_Learning_AI.txt\n",
            "r\n"
          ]
        }
      ],
      "source": [
        "file_path=\"/content/drive/MyDrive/Machine_Learning_AI.txt\"\n",
        "our_text_file=open(file_path,'r')\n",
        "print(our_text_file.name)\n",
        "print(our_text_file.mode)\n",
        "our_text_file.close()"
      ]
    },
    {
      "cell_type": "code",
      "source": [
        "with open(\"/content/drive/MyDrive/Machine_Learning_AI.txt\",\"r\") as active_file:\n",
        "  file_content=active_file.read()\n",
        "  print(file_content)\n",
        "print(active_file.closed)"
      ],
      "metadata": {
        "colab": {
          "base_uri": "https://localhost:8080/"
        },
        "id": "ER08d6_itClb",
        "outputId": "9efc729c-b9e1-4892-c103-bfb14f821f31"
      },
      "execution_count": null,
      "outputs": [
        {
          "output_type": "stream",
          "name": "stdout",
          "text": [
            "Unit 1: Introduction To Python - \n",
            "\n",
            "Intro to the Python Programming language\n",
            "Control structures and functions\n",
            "Importing libraries - Numpy and Pandas Basics\n",
            "Data wrangling and cleaning\n",
            "Exploratory Data Analysis and descriptive statistics\n",
            "\n",
            "Unit 2: Database Management - \n",
            "\n",
            "Introduction to Databases and SQL\n",
            "Retrieving data with SQL\n",
            "Writing SQL Queries\n",
            "Functions and aggregations\n",
            "Joins in SQL\n",
            "\n",
            "Unit 3: Statistics and Data Visualisation - \n",
            "\n",
            "Data Visualisation using matplotlib/seaborn\n",
            "Plotting Data distributions\n",
            "Introduction to probability\n",
            "Discrete and Continuous probability distributions\n",
            "Inferential Statistics and Hypothesis testing\n",
            "\n",
            "Unit 4: Machine Learning:\n",
            "\n",
            "Introduction to machine learning models \n",
            "Simple and Multiple Regression Models\n",
            "Logistic Regression\n",
            "ROC and AUC analysis\n",
            "KNN and Naive Bayes classifier\n",
            "SVM Classification and Regression\n",
            "Tree Based models:\n",
            "- Decision trees\n",
            "- Truncation and pruning\n",
            "- Random Forests and Bagged models\n",
            "- Gradient Boosted models\n",
            "Feature selection methods \n",
            "Model evaluation and hyper parameter tuning \n",
            "Unsupervised Learning:\n",
            "- Clustering (K means and Hierarchical)\n",
            "- Principal Component Analysis\n",
            "Recommender Systems\n",
            "\n",
            "Unit 5 - Artificial Intelligence:\n",
            "\n",
            "Intro to Neural Networks\n",
            "Types of Neural Networks\n",
            "Image classification\n",
            "Deep Learning Neural Networks\n",
            "\n",
            "Intro to NLP\n",
            "Basic Lexical processing\n",
            "Text classification / Topic modelling / Document summarisation\n",
            "Reinforcement Learning Models\n",
            "\n",
            "Notes:\n",
            "\n",
            "Unit 5 could probability be split in 2 depending on how comprehensive the coverage is\n",
            "\n",
            "\n",
            "True\n"
          ]
        }
      ]
    },
    {
      "cell_type": "code",
      "source": [
        "print(len(file_content))"
      ],
      "metadata": {
        "colab": {
          "base_uri": "https://localhost:8080/"
        },
        "id": "9m4SIU1qwk1V",
        "outputId": "3a07d13a-e8cb-418c-e967-04c191847980"
      },
      "execution_count": null,
      "outputs": [
        {
          "output_type": "stream",
          "name": "stdout",
          "text": [
            "1517\n"
          ]
        }
      ]
    },
    {
      "cell_type": "code",
      "source": [
        "with open(\"/content/drive/MyDrive/Machine_Learning_AI.txt\",\"r\")as active_file:\n",
        "  a=active_file.readlines()\n",
        "  print(a[0])\n",
        "  print(a[8])\n",
        "  print(a[22])"
      ],
      "metadata": {
        "colab": {
          "base_uri": "https://localhost:8080/"
        },
        "id": "lr8dI5hxxo0w",
        "outputId": "b6d24427-eaa2-4dc8-925e-2b5989f468b6"
      },
      "execution_count": null,
      "outputs": [
        {
          "output_type": "stream",
          "name": "stdout",
          "text": [
            "Unit 1: Introduction To Python - \n",
            "\n",
            "Unit 2: Database Management - \n",
            "\n",
            "Inferential Statistics and Hypothesis testing\n",
            "\n"
          ]
        }
      ]
    },
    {
      "cell_type": "code",
      "source": [
        "with open(\"/content/drive/MyDrive/Machine_Learning_AI.txt\",\"r\")as active_file:\n",
        "  a=active_file.readlines()\n",
        "  print(a)\n",
        "  print(len(a))\n",
        "  for x in a:\n",
        "    print(len(x))"
      ],
      "metadata": {
        "colab": {
          "base_uri": "https://localhost:8080/"
        },
        "id": "FeLGzPIqyhrI",
        "outputId": "a26c7f36-9365-4948-8005-2026460943e0"
      },
      "execution_count": null,
      "outputs": [
        {
          "output_type": "stream",
          "name": "stdout",
          "text": [
            "['Unit 1: Introduction To Python - \\n', '\\n', 'Intro to the Python Programming language\\n', 'Control structures and functions\\n', 'Importing libraries - Numpy and Pandas Basics\\n', 'Data wrangling and cleaning\\n', 'Exploratory Data Analysis and descriptive statistics\\n', '\\n', 'Unit 2: Database Management - \\n', '\\n', 'Introduction to Databases and SQL\\n', 'Retrieving data with SQL\\n', 'Writing SQL Queries\\n', 'Functions and aggregations\\n', 'Joins in SQL\\n', '\\n', 'Unit 3: Statistics and Data Visualisation - \\n', '\\n', 'Data Visualisation using matplotlib/seaborn\\n', 'Plotting Data distributions\\n', 'Introduction to probability\\n', 'Discrete and Continuous probability distributions\\n', 'Inferential Statistics and Hypothesis testing\\n', '\\n', 'Unit 4: Machine Learning:\\n', '\\n', 'Introduction to machine learning models \\n', 'Simple and Multiple Regression Models\\n', 'Logistic Regression\\n', 'ROC and AUC analysis\\n', 'KNN and Naive Bayes classifier\\n', 'SVM Classification and Regression\\n', 'Tree Based models:\\n', '- Decision trees\\n', '- Truncation and pruning\\n', '- Random Forests and Bagged models\\n', '- Gradient Boosted models\\n', 'Feature selection methods \\n', 'Model evaluation and hyper parameter tuning \\n', 'Unsupervised Learning:\\n', '- Clustering (K means and Hierarchical)\\n', '- Principal Component Analysis\\n', 'Recommender Systems\\n', '\\n', 'Unit 5 - Artificial Intelligence:\\n', '\\n', 'Intro to Neural Networks\\n', 'Types of Neural Networks\\n', 'Image classification\\n', 'Deep Learning Neural Networks\\n', '\\n', 'Intro to NLP\\n', 'Basic Lexical processing\\n', 'Text classification / Topic modelling / Document summarisation\\n', 'Reinforcement Learning Models\\n', '\\n', 'Notes:\\n', '\\n', 'Unit 5 could probability be split in 2 depending on how comprehensive the coverage is\\n', '\\n']\n",
            "60\n",
            "34\n",
            "1\n",
            "41\n",
            "33\n",
            "46\n",
            "28\n",
            "53\n",
            "1\n",
            "31\n",
            "1\n",
            "34\n",
            "25\n",
            "20\n",
            "27\n",
            "13\n",
            "1\n",
            "45\n",
            "1\n",
            "44\n",
            "28\n",
            "28\n",
            "50\n",
            "46\n",
            "1\n",
            "26\n",
            "1\n",
            "41\n",
            "38\n",
            "20\n",
            "21\n",
            "31\n",
            "34\n",
            "19\n",
            "17\n",
            "25\n",
            "35\n",
            "26\n",
            "27\n",
            "45\n",
            "23\n",
            "40\n",
            "31\n",
            "20\n",
            "1\n",
            "34\n",
            "1\n",
            "25\n",
            "25\n",
            "21\n",
            "30\n",
            "1\n",
            "13\n",
            "25\n",
            "63\n",
            "30\n",
            "1\n",
            "7\n",
            "1\n",
            "86\n",
            "1\n"
          ]
        }
      ]
    },
    {
      "cell_type": "code",
      "source": [
        "with open('new_file.txt','w') as file_to_write:\n",
        "  file_to_write.write('this is line 0\\n')\n",
        "  file_to_write.write('this is line 1\\n')"
      ],
      "metadata": {
        "id": "tRfODJfu2MGO"
      },
      "execution_count": null,
      "outputs": []
    },
    {
      "cell_type": "markdown",
      "source": [],
      "metadata": {
        "id": "leu8DRnh2Ly5"
      }
    }
  ]
}